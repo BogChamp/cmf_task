{
 "cells": [
  {
   "cell_type": "code",
   "execution_count": 1,
   "metadata": {},
   "outputs": [],
   "source": [
    "import numpy as np\n",
    "import pandas as pd\n",
    "from scipy.stats import norm\n",
    "from collections import defaultdict"
   ]
  },
  {
   "cell_type": "code",
   "execution_count": 68,
   "metadata": {},
   "outputs": [],
   "source": [
    "CALL:int = 0\n",
    "PUT:int = 1\n",
    "\n",
    "STOCK:int = 0\n",
    "CURRENCY:int = 1\n",
    "\n",
    "EUROPEAN:int = 0\n",
    "AMERICAN:int = 1\n",
    "\n",
    "def get_d1(S: float, X: float, T: float, sigma: float, b: float):\n",
    "    d1: float = (np.log(S / X) + (b + sigma**2 / 2) * T) / (sigma * np.sqrt(T))\n",
    "    return d1\n",
    "\n",
    "def get_d2(S: float, X: float, T: float, sigma: float, b: float):\n",
    "    d1 = get_d1(S, X, T, sigma, b)\n",
    "    d2: float = d1 - sigma * np.sqrt(T)\n",
    "    return d2\n",
    "\n",
    "def get_d(S: float, X: float, T: float, sigma: float, b: float):\n",
    "    d1 = get_d1(S, X, T, sigma, b)\n",
    "    d2:float = d1 - sigma * np.sqrt(T)\n",
    "    return d1, d2\n",
    "\n",
    "def BSM_call_option(S: float, X: float, r: float, T: float, sigma: float, b: float):\n",
    "    d1, d2 = get_d(S, X, T, sigma, b)\n",
    "    c: float = S * np.exp((b - r) * T) * norm.cdf(d1) - X * np.exp(-r * T) * norm.cdf(d2)\n",
    "    return c\n",
    "\n",
    "def BSM_put_option(S: float, X: float, r: float, T: float, sigma: float, b: float):\n",
    "    p = -BSM_call_option(S, X, r, T, -sigma, b)\n",
    "    return p\n",
    "\n",
    "def price_european_stock_option(S: float, X: float, r: float, \n",
    "                                T: float, sigma: float, q: float =0, option_type: int =CALL):\n",
    "    b = r - q\n",
    "    if option_type == CALL:\n",
    "        p = BSM_call_option(S, X, r, T, sigma, b)\n",
    "    elif option_type == PUT:\n",
    "        p = BSM_put_option(S, X, r, T, sigma, b)\n",
    "    else:\n",
    "        raise Exception('ONLY CALL or PUT options sides are existed!')\n",
    "    return p\n",
    "\n",
    "def price_european_currency_option(S: float, X: float, r: float, T: float, \n",
    "                                   sigma: float, rf: float =0, option_type: int =CALL):\n",
    "    p = price_european_stock_option(S, X, r, T, sigma, rf, option_type)\n",
    "    return p\n",
    "\n",
    "def CRRBinomial(S: float, X: float, r: float, T: float, \n",
    "                sigma: float, b: float, option_type: int, n: int):\n",
    "    z = 1 if option_type == CALL else -1\n",
    "    dt = T / n\n",
    "    u = np.exp(sigma * np.sqrt(dt))\n",
    "    d = 1 / u\n",
    "    p = (np.exp(b * dt) - d) / (u - d)\n",
    "    Df = np.exp(-r * dt)\n",
    "\n",
    "    option_value = []\n",
    "    for i in range(n+1):\n",
    "        option_value.append(max(0, z * (S * u**i * d**(n - i) - X)))\n",
    "    \n",
    "    return_values = [.0 for _ in range(4)]\n",
    "    for j in range(n, 0, -1):\n",
    "        for i in range(j):\n",
    "            option_value[i] = max(z * (S * u**i * d**(j - 1 - i) - X), (p * option_value[i+1] + (1 - p) * option_value[i]) * Df)\n",
    "        \n",
    "        if j == 3:\n",
    "            return_values[2] = ((option_value[2] - option_value[1]) / (S * u**2 - S) - \\\n",
    "            (option_value[1] - option_value[0]) / (S - S * d**2)) / (0.5 * (S * u**2 - S * d**2))\n",
    "            return_values[3] = option_value[1]\n",
    "        if j == 2:\n",
    "            return_values[1] = (option_value[1] - option_value[0]) / (S * u - S * d)\n",
    "            \n",
    "    return_values[3] = (return_values[3] - option_value[0]) / (2 * dt) / 365\n",
    "    return_values[0] = option_value[0]\n",
    "\n",
    "    return return_values\n",
    "\n",
    "def price_american_stock_option(S: float, X: float, r: float, T: float, sigma: float, \n",
    "                                q: float =0, option_type: int=CALL, n: int=10**2):\n",
    "    b = r - q\n",
    "    return CRRBinomial(S, X, r, T, sigma, b, option_type, n)\n",
    "\n",
    "def price_american_currency_option(S: float, X: float, r: float, T: float, sigma: float, \n",
    "                                   rf: float =0, option_type:int =CALL, n: int=10**2):\n",
    "    b = r - rf\n",
    "    return CRRBinomial(S, X, r, T, sigma, b, option_type, n)\n",
    "\n",
    "def price_option(S: float, X: float, r: float, T: float, sigma: float, q: float =0, \n",
    "                 option_type: int =CALL, option_class: int = EUROPEAN, asset_type:int = STOCK):\n",
    "    if option_class == EUROPEAN:\n",
    "        if asset_type == STOCK:\n",
    "            p = price_european_stock_option(S, X, r, T, sigma, q, option_type)\n",
    "        else:\n",
    "            p = price_european_currency_option(S, X, r, T, sigma, q, option_type)\n",
    "    else:\n",
    "        if asset_type == STOCK:\n",
    "            p = price_american_stock_option(S, X, r, T, sigma, q, option_type)[0]\n",
    "        else:\n",
    "            p = price_american_currency_option(S, X, r, T, sigma, q, option_type)[0]\n",
    "    \n",
    "    return p"
   ]
  },
  {
   "cell_type": "code",
   "execution_count": 1,
   "metadata": {},
   "outputs": [],
   "source": [
    "import gdown"
   ]
  },
  {
   "cell_type": "code",
   "execution_count": 4,
   "metadata": {},
   "outputs": [
    {
     "name": "stderr",
     "output_type": "stream",
     "text": [
      "Downloading...\n",
      "From: https://drive.google.com/uc?id=1Pj5d7imn8MNACEJabq3Adnpx6BLoV_cy\n",
      "To: /home/bogdan/CMF/Options_call_put.xlsx\n",
      "100%|██████████| 11.3k/11.3k [00:00<00:00, 8.47MB/s]\n"
     ]
    },
    {
     "data": {
      "text/plain": [
       "'Options_call_put.xlsx'"
      ]
     },
     "execution_count": 4,
     "metadata": {},
     "output_type": "execute_result"
    }
   ],
   "source": [
    "url = 'https://docs.google.com/spreadsheets/d/1Pj5d7imn8MNACEJabq3Adnpx6BLoV_cy/edit?usp=drive_link'\n",
    "output = 'Options_call_put.xlsx'\n",
    "gdown.download(url, output, quiet=False, fuzzy=True)"
   ]
  },
  {
   "cell_type": "code",
   "execution_count": 3,
   "metadata": {},
   "outputs": [],
   "source": [
    "put_call = pd.read_excel('Options_call_put.xlsx')"
   ]
  },
  {
   "cell_type": "code",
   "execution_count": 4,
   "metadata": {},
   "outputs": [],
   "source": [
    "for column in put_call.columns:\n",
    "    if column != 'Strike':\n",
    "        put_call[column] /= 100 # Because price of option consider 100 underlying assets (otherwise prices are too large)"
   ]
  },
  {
   "cell_type": "code",
   "execution_count": 5,
   "metadata": {},
   "outputs": [],
   "source": [
    "r = 0.072\n",
    "T = 70 / 365\n",
    "S = 90.2\n",
    "F_stock = 91.1\n",
    "F_currency = 89.3"
   ]
  },
  {
   "cell_type": "code",
   "execution_count": 39,
   "metadata": {},
   "outputs": [],
   "source": [
    "def implied_volatility_european_stock(S: float, X: float, r: float, T: float, q: float, \n",
    "                                      option_price: float, option_type: int =CALL, eps: float =1e-8):\n",
    "    b = r - q\n",
    "    implied_sigma: float = np.sqrt(np.abs(np.log(S / X) + r * T) * 2 / T)\n",
    "    implied_option_price = price_european_stock_option(S, X, r, T, implied_sigma, q, option_type)\n",
    "    abs_diff = np.abs(implied_option_price - option_price)\n",
    "    last_abs_diff = np.inf\n",
    "    while (abs_diff > eps) and (abs_diff < last_abs_diff):\n",
    "        d1 = get_d1(S, X, T, implied_sigma, b)\n",
    "        vega = S * np.exp(-q * T) * norm.pdf(d1) * np.sqrt(T)\n",
    "        implied_sigma -= (implied_option_price - option_price) / vega\n",
    "        implied_option_price = price_european_stock_option(S, X, r, T, implied_sigma, q, option_type)\n",
    "        last_abs_diff = abs_diff\n",
    "        abs_diff = np.abs(implied_option_price - option_price)\n",
    "\n",
    "    if (abs_diff > eps) or (np.isnan(abs_diff)):\n",
    "        implied_sigma = np.nan\n",
    "\n",
    "    return implied_sigma\n",
    "\n",
    "def implied_volatility_european_currency(S: float, X: float, r: float, T: float, rf: float, \n",
    "                                         option_price: float, option_type: int =CALL, eps: float=1e-8):\n",
    "    implied_sigma = implied_volatility_european_stock(S, X, r, T, rf, option_price, option_type, eps)\n",
    "    return implied_sigma\n",
    "\n",
    "def implied_volatility_american_stock(S: float, X: float, r: float, T: float, q: float, \n",
    "                                      option_price: float, option_type: int =CALL, eps: float=1e-8, \n",
    "                                      sigma_low: float =0.005, sigma_high: float =10):\n",
    "    c_low = price_american_stock_option(S, X, r, T, sigma_low, q, option_type)[0]\n",
    "    c_high =  price_american_stock_option(S, X, r, T, sigma_high, q, option_type)[0]\n",
    "    implied_sigma:float = sigma_low + (option_price - c_low) * (sigma_high - sigma_low) / (c_high - c_low)\n",
    "    implied_option_price = price_american_stock_option(S, X, r, T, implied_sigma, q, option_type)[0]\n",
    "    abs_diff = np.abs(implied_option_price - option_price)\n",
    "    counter: int = 0\n",
    "    while (abs_diff > eps):\n",
    "        if counter >= 100:\n",
    "            return np.nan\n",
    "        if implied_option_price < option_price:\n",
    "            sigma_low = implied_sigma\n",
    "            c_low = price_american_stock_option(S, X, r, T, sigma_low, q, option_type)[0]\n",
    "        else:\n",
    "            sigma_high = implied_sigma\n",
    "            c_high = price_american_stock_option(S, X, r, T, sigma_high, q, option_type)[0]\n",
    "        \n",
    "        implied_sigma = sigma_low + (option_price - c_low) * (sigma_high - sigma_low) / (c_high - c_low)\n",
    "        implied_option_price = price_american_stock_option(S, X, r, T, implied_sigma, q, option_type)[0]\n",
    "        abs_diff = np.abs(implied_option_price - option_price)\n",
    "        counter += 1\n",
    "    return implied_sigma\n",
    "\n",
    "def implied_volatility_american_currency(S: float, X: float, r: float, T: float, rf: float, \n",
    "                                      option_price: float, option_type: int =CALL, eps: float=1e-8, \n",
    "                                      sigma_low: float =0.005, sigma_high: float =10):\n",
    "    return implied_volatility_american_stock(S, X, r, T, rf, option_price, \n",
    "                                             option_type, eps, sigma_low, sigma_high)\n",
    "\n",
    "def option_implied_volatility(S: float, X: float, r: float, T: float, q: float, option_price: float, \n",
    "                              option_type: int =CALL, option_class: int = EUROPEAN, asset_type:int = STOCK, eps: float=1e-8):\n",
    "    \n",
    "    if option_class == EUROPEAN:\n",
    "        if asset_type == STOCK:\n",
    "            implied_sigma = implied_volatility_european_stock(S, X, r, T, q, option_price, option_type, eps)\n",
    "        else:\n",
    "            implied_sigma = implied_volatility_european_currency(S, X, r, T, q, option_price, option_type, eps)\n",
    "    else:\n",
    "        if asset_type == STOCK:\n",
    "            implied_sigma = implied_volatility_american_stock(S, X, r, T, q, option_price, option_type, eps)\n",
    "        else:\n",
    "            implied_sigma = implied_volatility_american_currency(S, X, r, T, q, option_price, option_type, eps)\n",
    "    \n",
    "    return implied_sigma"
   ]
  },
  {
   "cell_type": "code",
   "execution_count": 7,
   "metadata": {},
   "outputs": [],
   "source": [
    "def delta_european_stock(S: float, X: float, r: float, T: float, \n",
    "                         sigma: float, q: float, option_type: int =CALL):\n",
    "    b = r - q\n",
    "    d1 = get_d1(S, X, T, sigma, b)\n",
    "    if option_type == CALL:\n",
    "        delta = np.exp(-q * T) * norm.cdf(d1)\n",
    "    else:\n",
    "        delta = np.exp(-q * T) * (norm.cdf(d1) - 1)\n",
    "    return delta\n",
    "\n",
    "def delta_european_currency(S: float, X: float, r: float, T: float, \n",
    "                            sigma: float, rf: float, option_type: int =CALL):\n",
    "    delta = delta_european_stock(S, X, r, T, sigma, rf, option_type)\n",
    "    return delta\n",
    "\n",
    "def delta_american_stock(S: float, X: float, r: float, T: float, \n",
    "                         sigma: float, q: float, option_type: int =CALL):\n",
    "    delta = price_american_stock_option(S, X, r, T, sigma, q, option_type)[1]\n",
    "    return delta\n",
    "\n",
    "def delta_american_currency(S: float, X: float, r: float, T: float, \n",
    "                            sigma: float, rf: float, option_type: int =CALL):\n",
    "    delta = price_american_currency_option(S, X, r, T, sigma, rf, option_type)[1]\n",
    "    return delta\n",
    "\n",
    "def option_delta(S: float, X: float, r: float, T: float, sigma: float, q: float =0, \n",
    "                 option_type: int =CALL, option_class: int = EUROPEAN, asset_type:int = STOCK):\n",
    "    if option_class == EUROPEAN:\n",
    "        if asset_type == STOCK:\n",
    "            delta = delta_european_stock(S, X, r, T, sigma, q, option_type)\n",
    "        else:\n",
    "            delta = delta_european_currency(S, X, r, T, sigma, q, option_type)\n",
    "    else:\n",
    "        if asset_type == STOCK:\n",
    "            delta = delta_american_stock(S, X, r, T, sigma, q, option_type)\n",
    "        else:\n",
    "            delta = delta_american_currency(S, X, r, T, sigma, q, option_type)\n",
    "    \n",
    "    return delta"
   ]
  },
  {
   "cell_type": "code",
   "execution_count": 8,
   "metadata": {},
   "outputs": [],
   "source": [
    "def vega_european_stock(S: float, X: float, r: float, T: float, sigma: float, q: float):\n",
    "    b = r - q\n",
    "    d1 = get_d1(S, X, T, sigma, b)\n",
    "    vega = S * np.exp(-q * T) * norm.pdf(d1) * np.sqrt(T)\n",
    "    return vega\n",
    "\n",
    "def vega_european_currency(S: float, X: float, r: float, T: float, sigma: float, rf: float):\n",
    "    vega = vega_european_stock(S, X, r, T, sigma, rf)\n",
    "    return vega\n",
    "\n",
    "def vega_american_stock(S: float, X: float, r: float, T: float, sigma: float, \n",
    "                        q: float, option_type: int =CALL, dsigma: float =0.001):\n",
    "    price_high = price_american_stock_option(S, X, r, T, sigma+dsigma, q, option_type)[0]\n",
    "    price_low = price_american_stock_option(S, X, r, T, sigma-dsigma, q, option_type)[0]\n",
    "    vega = (price_high - price_low) / (2 * dsigma)\n",
    "    return vega\n",
    "\n",
    "def vega_american_currency(S: float, X: float, r: float, T: float, sigma: float, \n",
    "                           rf: float, option_type: int =CALL, dsigma: float =0.001):\n",
    "    vega = vega_american_stock(S, X, r, T, sigma, rf, option_type, dsigma)\n",
    "    return vega\n",
    "\n",
    "def option_vega(S: float, X: float, r: float, T: float, sigma: float, q: float =0, \n",
    "                 option_type: int =CALL, option_class: int = EUROPEAN, asset_type:int = STOCK):\n",
    "    if option_class == EUROPEAN:\n",
    "        if asset_type == STOCK:\n",
    "            vega = vega_european_stock(S, X, r, T, sigma, q)\n",
    "        else:\n",
    "            vega = vega_european_currency(S, X, r, T, sigma, q)\n",
    "    else:\n",
    "        if asset_type == STOCK:\n",
    "            vega = vega_american_stock(S, X, r, T, sigma, q, option_type)\n",
    "        else:\n",
    "            vega = vega_american_currency(S, X, r, T, sigma, q, option_type)\n",
    "    \n",
    "    return vega"
   ]
  },
  {
   "cell_type": "code",
   "execution_count": 9,
   "metadata": {},
   "outputs": [],
   "source": [
    "def gamma_european_stock(S: float, X: float, r: float, T: float, sigma: float, q: float):\n",
    "    b = r - q\n",
    "    d1 = get_d1(S, X, T, sigma, b)\n",
    "    gamma = norm.pdf(d1) * np.exp(-q * T) / (S * sigma * np.sqrt(T))\n",
    "    return gamma\n",
    "\n",
    "def gamma_european_currency(S: float, X: float, r: float, T: float, sigma: float, rf: float):\n",
    "    gamma = gamma_european_stock(S, X, r, T, sigma, rf)\n",
    "    return gamma\n",
    "\n",
    "def gamma_american_stock(S: float, X: float, r: float, T: float, \n",
    "                         sigma: float, q: float, option_type: int =CALL):\n",
    "    gamma = price_american_stock_option(S, X, r, T, sigma, q, option_type)[2]\n",
    "    return gamma\n",
    "\n",
    "def gamma_american_currency(S: float, X: float, r: float, T: float, \n",
    "                            sigma: float, rf: float, option_type: int =CALL):\n",
    "    gamma = price_american_currency_option(S, X, r, T, sigma, rf, option_type)[2]\n",
    "    return gamma\n",
    "\n",
    "def option_gamma(S: float, X: float, r: float, T: float, sigma: float, q: float =0, \n",
    "                 option_type: int =CALL, option_class: int = EUROPEAN, asset_type:int = STOCK):\n",
    "    if option_class == EUROPEAN:\n",
    "        if asset_type == STOCK:\n",
    "            gamma = gamma_european_stock(S, X, r, T, sigma, q)\n",
    "        else:\n",
    "            gamma = gamma_european_currency(S, X, r, T, sigma, q)\n",
    "    else:\n",
    "        if asset_type == STOCK:\n",
    "            gamma = gamma_american_stock(S, X, r, T, sigma, q, option_type)\n",
    "        else:\n",
    "            gamma = gamma_american_currency(S, X, r, T, sigma, q, option_type)\n",
    "    \n",
    "    return gamma"
   ]
  },
  {
   "cell_type": "code",
   "execution_count": 10,
   "metadata": {},
   "outputs": [],
   "source": [
    "def vanna_european_stock(S: float, X: float, r: float, T: float, sigma: float, q: float):\n",
    "    b = r - q\n",
    "    d1, d2 = get_d(S, X, T, sigma, b)\n",
    "    vanna = -norm.pdf(d1) * d2 * np.exp(-q * T) / sigma\n",
    "    return vanna\n",
    "\n",
    "def vanna_european_currency(S: float, X: float, r: float, T: float, sigma: float, rf: float):\n",
    "    vanna = vanna_european_stock(S, X, r, T, sigma, rf)\n",
    "    return vanna\n",
    "\n",
    "def vanna_american_stock(S: float, X: float, r: float, T: float, sigma: float, \n",
    "                        q: float, option_type: int =CALL, dsigma: float =0.001):\n",
    "    delta_high = price_american_stock_option(S, X, r, T, sigma+dsigma, q, option_type)[1]\n",
    "    delta_low = price_american_stock_option(S, X, r, T, sigma-dsigma, q, option_type)[1]\n",
    "    vanna = (delta_high - delta_low) / (2 * dsigma)\n",
    "    return vanna\n",
    "\n",
    "def vanna_american_currency(S: float, X: float, r: float, T: float, sigma: float, \n",
    "                           rf: float, option_type: int =CALL, dsigma: float =0.001):\n",
    "    vanna = vanna_american_stock(S, X, r, T, sigma, rf, option_type, dsigma)\n",
    "    return vanna\n",
    "\n",
    "def option_vanna(S: float, X: float, r: float, T: float, sigma: float, q: float =0, \n",
    "                 option_type: int =CALL, option_class: int = EUROPEAN, asset_type:int = STOCK):\n",
    "    if option_class == EUROPEAN:\n",
    "        if asset_type == STOCK:\n",
    "            vanna = vanna_european_stock(S, X, r, T, sigma, q)\n",
    "        else:\n",
    "            vanna = vanna_european_currency(S, X, r, T, sigma, q)\n",
    "    else:\n",
    "        if asset_type == STOCK:\n",
    "            vanna = vanna_american_stock(S, X, r, T, sigma, q, option_type)\n",
    "        else:\n",
    "            vanna = vanna_american_currency(S, X, r, T, sigma, q, option_type)\n",
    "    \n",
    "    return vanna"
   ]
  },
  {
   "cell_type": "code",
   "execution_count": 11,
   "metadata": {},
   "outputs": [],
   "source": [
    "def volga_european_stock(S: float, X: float, r: float, T: float, sigma: float, q: float):\n",
    "    b = r - q\n",
    "    d1, d2 = get_d(S, X, T, sigma, b)\n",
    "    vega = vega_european_stock(S, X, r, T, sigma, q)\n",
    "    volga = vega * (d1 * d2) / sigma\n",
    "    return volga\n",
    "\n",
    "def volga_european_currency(S: float, X: float, r: float, T: float, sigma: float, rf: float):\n",
    "    volga = volga_european_stock(S, X, r, T, sigma, rf)\n",
    "    return volga\n",
    "\n",
    "def volga_american_stock(S: float, X: float, r: float, T: float, sigma: float, \n",
    "                        q: float, option_type: int =CALL, dsigma: float =0.001):\n",
    "    price_high = price_american_stock_option(S, X, r, T, sigma+dsigma, q, option_type)[0]\n",
    "    price_mid = price_american_stock_option(S, X, r, T, sigma, q, option_type)[0]\n",
    "    price_low = price_american_stock_option(S, X, r, T, sigma-dsigma, q, option_type)[0]\n",
    "    volga = (price_high - 2 * price_mid + price_low) / dsigma**2\n",
    "    return volga\n",
    "\n",
    "def volga_american_currency(S: float, X: float, r: float, T: float, sigma: float, \n",
    "                            rf: float, option_type: int =CALL, dsigma: float =0.001):\n",
    "    volga = volga_american_stock(S, X, r, T, sigma, rf, option_type, dsigma)\n",
    "    return volga\n",
    "\n",
    "def option_volga(S: float, X: float, r: float, T: float, sigma: float, q: float =0, \n",
    "                 option_type: int =CALL, option_class: int = EUROPEAN, asset_type:int = STOCK):\n",
    "    if option_class == EUROPEAN:\n",
    "        if asset_type == STOCK:\n",
    "            volga = volga_european_stock(S, X, r, T, sigma, q)\n",
    "        else:\n",
    "            volga = volga_european_currency(S, X, r, T, sigma, q)\n",
    "    else:\n",
    "        if asset_type == STOCK:\n",
    "            volga = volga_american_stock(S, X, r, T, sigma, q, option_type)\n",
    "        else:\n",
    "            volga = volga_american_currency(S, X, r, T, sigma, q, option_type)\n",
    "    \n",
    "    return volga"
   ]
  },
  {
   "cell_type": "code",
   "execution_count": 12,
   "metadata": {},
   "outputs": [],
   "source": [
    "def theta_european_stock(S: float, X: float, r: float, T: float, \n",
    "                         sigma: float, q: float, option_type: int = CALL):\n",
    "    b = r - q\n",
    "    d1, d2 = get_d(S, X, T, sigma, b)\n",
    "    common_theta = (-S * np.exp(-q * T) * norm.pdf(d1) * sigma) / (2 * np.sqrt(T))\n",
    "    if option_type == CALL:\n",
    "        drift = -q * S * np.exp(-q * T) * norm.cdf(d1) + r * X * np.exp(-r * T) * norm.cdf(d2)\n",
    "    else:\n",
    "        drift = q * S * np.exp(-q * T) * norm.cdf(-d1) - r * X * np.exp(-r * T) * norm.cdf(-d2)\n",
    "    theta = common_theta - drift\n",
    "\n",
    "    return theta\n",
    "\n",
    "def theta_european_currency(S: float, X: float, r: float, T: float, \n",
    "                            sigma: float, rf: float, option_type: int = CALL):\n",
    "    theta = theta_european_stock(S, X, r, T, sigma, rf, option_type)\n",
    "    return theta\n",
    "\n",
    "def theta_american_stock(S: float, X: float, r: float, T: float, sigma: float, \n",
    "                         q: float, option_type: int = CALL):\n",
    "    theta = price_american_stock_option(S, X, r, T, sigma, q, option_type)[3]\n",
    "    return theta\n",
    "\n",
    "def theta_american_currency(S: float, X: float, r: float, T: float, \n",
    "                            sigma: float, rf: float, option_type: int = CALL):\n",
    "    theta = price_american_currency_option(S, X, r, T, sigma, rf, option_type)[3]\n",
    "    return theta\n",
    "\n",
    "def option_theta(S: float, X: float, r: float, T: float, sigma: float, q: float =0, \n",
    "                 option_type: int =CALL, option_class: int = EUROPEAN, asset_type:int = STOCK):\n",
    "    if option_class == EUROPEAN:\n",
    "        if asset_type == STOCK:\n",
    "            theta = theta_european_stock(S, X, r, T, sigma, q, option_type)\n",
    "        else:\n",
    "            theta = theta_european_currency(S, X, r, T, sigma, q, option_type)\n",
    "    else:\n",
    "        if asset_type == STOCK:\n",
    "            theta = theta_american_stock(S, X, r, T, sigma, q, option_type)\n",
    "        else:\n",
    "            theta = theta_american_currency(S, X, r, T, sigma, q, option_type)\n",
    "    \n",
    "    return theta"
   ]
  },
  {
   "cell_type": "code",
   "execution_count": 13,
   "metadata": {},
   "outputs": [],
   "source": [
    "q = 1 + r * T - F_stock / S # dividends\n",
    "rf = 1 + r * T - F_currency / S  # risk free rate for foreign currency"
   ]
  },
  {
   "cell_type": "code",
   "execution_count": 40,
   "metadata": {},
   "outputs": [],
   "source": [
    "def get_delta_vega_gamma_vanna_volga_theta(S, X, r, T, sigma, q, option_type, option_class, asset_type):\n",
    "    delta = option_delta(S, X, r, T, sigma, q, option_type, option_class, asset_type)\n",
    "    vega = option_vega(S, X, r, T, sigma, q, option_type, option_class, asset_type)\n",
    "    gamma = option_gamma(S, X, r, T, sigma, q, option_type, option_class, asset_type)\n",
    "    vanna = option_vanna(S, X, r, T, sigma, q, option_type, option_class, asset_type)\n",
    "    volga = option_volga(S, X, r, T, sigma, q, option_type, option_class, asset_type)\n",
    "    theta = option_theta(S, X, r, T, sigma, q, option_type, option_class, asset_type)\n",
    "    return [delta, vega, gamma, vanna, volga, theta]\n",
    "\n",
    "def calculate_parameters(data_file: pd.DataFrame, option_class: int = EUROPEAN, \n",
    "                         asset_type:int = STOCK, q:float = q):\n",
    "    calculated_parameters = defaultdict(dict)\n",
    "\n",
    "    for _, row in data_file.iterrows():\n",
    "        X = row['Strike']\n",
    "        if ~np.isnan(row['Call: bid']):\n",
    "            option_price = row['Call: bid']\n",
    "            implied_volatility = option_implied_volatility(S, X, r, T, q, option_price, \n",
    "                                                           CALL, option_class, asset_type)\n",
    "\n",
    "            calculated_parameters[X]['call_bid'] = [implied_volatility]\n",
    "            calculated_parameters[X]['call_bid'] += get_delta_vega_gamma_vanna_volga_theta(S, X, r, T, implied_volatility, \n",
    "                                                                                           q, CALL, option_class, asset_type)\n",
    "        if ~np.isnan(row['Call: offer']):\n",
    "            option_price = row['Call: offer']\n",
    "            implied_volatility = option_implied_volatility(S, X, r, T, q, option_price, \n",
    "                                                           CALL, option_class, asset_type)\n",
    "    \n",
    "            calculated_parameters[X]['call_offer'] = [implied_volatility]\n",
    "            calculated_parameters[X]['call_offer'] += get_delta_vega_gamma_vanna_volga_theta(S, X, r, T, implied_volatility, \n",
    "                                                                                          q, CALL, option_class, asset_type)\n",
    "        if ~np.isnan(row['Put: bid']):\n",
    "            option_price = row['Put: bid']\n",
    "            implied_volatility = option_implied_volatility(S, X, r, T, q, option_price, \n",
    "                                                           PUT, option_class, asset_type)\n",
    "                                                           \n",
    "            calculated_parameters[X]['put_bid'] = [implied_volatility]\n",
    "            calculated_parameters[X]['put_bid'] += get_delta_vega_gamma_vanna_volga_theta(S, X, r, T, implied_volatility, \n",
    "                                                                                          q, PUT, option_class, asset_type)\n",
    "        if ~np.isnan(row['Put: offer']):\n",
    "            option_price = row['Put: offer']\n",
    "            implied_volatility = option_implied_volatility(S, X, r, T, q, option_price, \n",
    "                                                           PUT, option_class, asset_type)\n",
    "            calculated_parameters[X]['put_offer'] = [implied_volatility]\n",
    "            calculated_parameters[X]['put_offer'] += get_delta_vega_gamma_vanna_volga_theta(S, X, r, T, implied_volatility, \n",
    "                                                                                          q, PUT, option_class, asset_type)\n",
    "\n",
    "    return calculated_parameters"
   ]
  },
  {
   "cell_type": "markdown",
   "metadata": {},
   "source": [
    "returning arrays are have these structure:\n",
    "[implied_volatility, delta, vega, gamma, vonna, volga, theta]"
   ]
  },
  {
   "cell_type": "code",
   "execution_count": 41,
   "metadata": {},
   "outputs": [
    {
     "name": "stderr",
     "output_type": "stream",
     "text": [
      "/tmp/ipykernel_973/4111660565.py:11: RuntimeWarning: divide by zero encountered in scalar divide\n",
      "  implied_sigma -= (implied_option_price - option_price) / vega\n",
      "/tmp/ipykernel_973/866554982.py:11: RuntimeWarning: invalid value encountered in scalar divide\n",
      "  d1: float = (np.log(S / X) + (b + sigma**2 / 2) * T) / (sigma * np.sqrt(T))\n"
     ]
    }
   ],
   "source": [
    "calculated_parameters_european_stock = calculate_parameters(put_call, EUROPEAN, STOCK, q=q)"
   ]
  },
  {
   "cell_type": "code",
   "execution_count": 56,
   "metadata": {},
   "outputs": [
    {
     "data": {
      "text/plain": [
       "[3.825358010729925,\n",
       " 0.8399428165019652,\n",
       " 9.582012567637438,\n",
       " 0.0016053376783551718,\n",
       " 0.0430234509560195,\n",
       " -1.6939710883780477,\n",
       " -96.51009619879837]"
      ]
     },
     "execution_count": 56,
     "metadata": {},
     "output_type": "execute_result"
    }
   ],
   "source": [
    "calculated_parameters_european_stock[70]['call_bid']"
   ]
  },
  {
   "cell_type": "code",
   "execution_count": 42,
   "metadata": {},
   "outputs": [
    {
     "name": "stderr",
     "output_type": "stream",
     "text": [
      "/tmp/ipykernel_973/4111660565.py:11: RuntimeWarning: divide by zero encountered in scalar divide\n",
      "  implied_sigma -= (implied_option_price - option_price) / vega\n",
      "/tmp/ipykernel_973/866554982.py:11: RuntimeWarning: invalid value encountered in scalar divide\n",
      "  d1: float = (np.log(S / X) + (b + sigma**2 / 2) * T) / (sigma * np.sqrt(T))\n",
      "/tmp/ipykernel_973/866554982.py:11: RuntimeWarning: overflow encountered in scalar power\n",
      "  d1: float = (np.log(S / X) + (b + sigma**2 / 2) * T) / (sigma * np.sqrt(T))\n"
     ]
    }
   ],
   "source": [
    "calculated_parameters_european_currency = calculate_parameters(put_call, EUROPEAN, CURRENCY, q=rf)"
   ]
  },
  {
   "cell_type": "code",
   "execution_count": 64,
   "metadata": {},
   "outputs": [
    {
     "data": {
      "text/plain": [
       "[1.8212771454490264,\n",
       " 0.6597972308184797,\n",
       " 14.361672041510735,\n",
       " 0.005053714651249316,\n",
       " 0.07534590865842819,\n",
       " -1.250484739401959,\n",
       " -69.02142517889828]"
      ]
     },
     "execution_count": 64,
     "metadata": {},
     "output_type": "execute_result"
    }
   ],
   "source": [
    "calculated_parameters_european_currency[89.5]['call_offer']"
   ]
  },
  {
   "cell_type": "code",
   "execution_count": 17,
   "metadata": {},
   "outputs": [
    {
     "name": "stderr",
     "output_type": "stream",
     "text": [
      "/tmp/ipykernel_973/866554982.py:60: RuntimeWarning: overflow encountered in scalar power\n",
      "  option_value.append(max(0, z * (S * u**i * d**(n - i) - X)))\n",
      "/tmp/ipykernel_973/866554982.py:60: RuntimeWarning: invalid value encountered in scalar multiply\n",
      "  option_value.append(max(0, z * (S * u**i * d**(n - i) - X)))\n",
      "/tmp/ipykernel_973/866554982.py:65: RuntimeWarning: overflow encountered in scalar power\n",
      "  option_value[i] = max(z * (S * u**i * d**(j - 1 - i) - X), (p * option_value[i+1] + (1 - p) * option_value[i]) * Df)\n",
      "/tmp/ipykernel_973/866554982.py:65: RuntimeWarning: invalid value encountered in scalar multiply\n",
      "  option_value[i] = max(z * (S * u**i * d**(j - 1 - i) - X), (p * option_value[i+1] + (1 - p) * option_value[i]) * Df)\n",
      "/tmp/ipykernel_973/866554982.py:68: RuntimeWarning: invalid value encountered in scalar subtract\n",
      "  return_values[2] = ((option_value[2] - option_value[1]) / (S * u**2 - S) - \\\n",
      "/tmp/ipykernel_973/866554982.py:69: RuntimeWarning: invalid value encountered in scalar subtract\n",
      "  (option_value[1] - option_value[0]) / (S - S * d**2)) / (0.5 * (S * u**2 - S * d**2))\n",
      "/tmp/ipykernel_973/866554982.py:72: RuntimeWarning: invalid value encountered in scalar subtract\n",
      "  return_values[1] = (option_value[1] - option_value[0]) / (S * u - S * d)\n",
      "/tmp/ipykernel_973/866554982.py:74: RuntimeWarning: invalid value encountered in scalar subtract\n",
      "  return_values[3] = (return_values[3] - option_value[0]) / (2 * dt) / 365\n",
      "/tmp/ipykernel_973/866554982.py:60: RuntimeWarning: overflow encountered in scalar multiply\n",
      "  option_value.append(max(0, z * (S * u**i * d**(n - i) - X)))\n",
      "/tmp/ipykernel_973/866554982.py:65: RuntimeWarning: overflow encountered in scalar multiply\n",
      "  option_value[i] = max(z * (S * u**i * d**(j - 1 - i) - X), (p * option_value[i+1] + (1 - p) * option_value[i]) * Df)\n",
      "/tmp/ipykernel_973/866554982.py:53: RuntimeWarning: overflow encountered in exp\n",
      "  u = np.exp(sigma * np.sqrt(dt))\n",
      "/tmp/ipykernel_973/866554982.py:72: RuntimeWarning: invalid value encountered in scalar divide\n",
      "  return_values[1] = (option_value[1] - option_value[0]) / (S * u - S * d)\n",
      "/tmp/ipykernel_973/866554982.py:54: RuntimeWarning: divide by zero encountered in scalar divide\n",
      "  d = 1 / u\n",
      "/tmp/ipykernel_973/866554982.py:55: RuntimeWarning: invalid value encountered in scalar divide\n",
      "  p = (np.exp(b * dt) - d) / (u - d)\n",
      "/tmp/ipykernel_973/866554982.py:69: RuntimeWarning: overflow encountered in scalar power\n",
      "  (option_value[1] - option_value[0]) / (S - S * d**2)) / (0.5 * (S * u**2 - S * d**2))\n",
      "/tmp/ipykernel_973/866554982.py:69: RuntimeWarning: invalid value encountered in scalar divide\n",
      "  (option_value[1] - option_value[0]) / (S - S * d**2)) / (0.5 * (S * u**2 - S * d**2))\n"
     ]
    }
   ],
   "source": [
    "calculated_parameters_american_stock = calculate_parameters(put_call, AMERICAN, STOCK, q)"
   ]
  },
  {
   "cell_type": "code",
   "execution_count": 60,
   "metadata": {},
   "outputs": [
    {
     "data": {
      "text/plain": [
       "[0.41299738430330035,\n",
       " -0.050423567280395355,\n",
       " 3.981242614288921,\n",
       " 0.006399013131485631,\n",
       " -0.35722473475376104,\n",
       " 2.028797334630017,\n",
       " -0.0112437211012123]"
      ]
     },
     "execution_count": 60,
     "metadata": {},
     "output_type": "execute_result"
    }
   ],
   "source": [
    "calculated_parameters_american_stock[69]['put_bid']"
   ]
  },
  {
   "cell_type": "code",
   "execution_count": 18,
   "metadata": {},
   "outputs": [
    {
     "name": "stderr",
     "output_type": "stream",
     "text": [
      "/tmp/ipykernel_973/866554982.py:60: RuntimeWarning: overflow encountered in scalar power\n",
      "  option_value.append(max(0, z * (S * u**i * d**(n - i) - X)))\n",
      "/tmp/ipykernel_973/866554982.py:60: RuntimeWarning: invalid value encountered in scalar multiply\n",
      "  option_value.append(max(0, z * (S * u**i * d**(n - i) - X)))\n",
      "/tmp/ipykernel_973/866554982.py:65: RuntimeWarning: overflow encountered in scalar power\n",
      "  option_value[i] = max(z * (S * u**i * d**(j - 1 - i) - X), (p * option_value[i+1] + (1 - p) * option_value[i]) * Df)\n",
      "/tmp/ipykernel_973/866554982.py:65: RuntimeWarning: invalid value encountered in scalar multiply\n",
      "  option_value[i] = max(z * (S * u**i * d**(j - 1 - i) - X), (p * option_value[i+1] + (1 - p) * option_value[i]) * Df)\n",
      "/tmp/ipykernel_973/866554982.py:68: RuntimeWarning: invalid value encountered in scalar subtract\n",
      "  return_values[2] = ((option_value[2] - option_value[1]) / (S * u**2 - S) - \\\n",
      "/tmp/ipykernel_973/866554982.py:69: RuntimeWarning: invalid value encountered in scalar subtract\n",
      "  (option_value[1] - option_value[0]) / (S - S * d**2)) / (0.5 * (S * u**2 - S * d**2))\n",
      "/tmp/ipykernel_973/866554982.py:72: RuntimeWarning: invalid value encountered in scalar subtract\n",
      "  return_values[1] = (option_value[1] - option_value[0]) / (S * u - S * d)\n",
      "/tmp/ipykernel_973/866554982.py:74: RuntimeWarning: invalid value encountered in scalar subtract\n",
      "  return_values[3] = (return_values[3] - option_value[0]) / (2 * dt) / 365\n",
      "/tmp/ipykernel_973/866554982.py:60: RuntimeWarning: overflow encountered in scalar multiply\n",
      "  option_value.append(max(0, z * (S * u**i * d**(n - i) - X)))\n",
      "/tmp/ipykernel_973/866554982.py:65: RuntimeWarning: overflow encountered in scalar multiply\n",
      "  option_value[i] = max(z * (S * u**i * d**(j - 1 - i) - X), (p * option_value[i+1] + (1 - p) * option_value[i]) * Df)\n",
      "/tmp/ipykernel_973/866554982.py:53: RuntimeWarning: overflow encountered in exp\n",
      "  u = np.exp(sigma * np.sqrt(dt))\n",
      "/tmp/ipykernel_973/866554982.py:72: RuntimeWarning: invalid value encountered in scalar divide\n",
      "  return_values[1] = (option_value[1] - option_value[0]) / (S * u - S * d)\n",
      "/tmp/ipykernel_973/866554982.py:54: RuntimeWarning: divide by zero encountered in scalar divide\n",
      "  d = 1 / u\n",
      "/tmp/ipykernel_973/866554982.py:55: RuntimeWarning: invalid value encountered in scalar divide\n",
      "  p = (np.exp(b * dt) - d) / (u - d)\n",
      "/tmp/ipykernel_973/866554982.py:69: RuntimeWarning: overflow encountered in scalar power\n",
      "  (option_value[1] - option_value[0]) / (S - S * d**2)) / (0.5 * (S * u**2 - S * d**2))\n",
      "/tmp/ipykernel_973/866554982.py:69: RuntimeWarning: invalid value encountered in scalar divide\n",
      "  (option_value[1] - option_value[0]) / (S - S * d**2)) / (0.5 * (S * u**2 - S * d**2))\n"
     ]
    }
   ],
   "source": [
    "calculated_parameters_american_currency = calculate_parameters(put_call, AMERICAN, CURRENCY, rf)"
   ]
  },
  {
   "cell_type": "code",
   "execution_count": 63,
   "metadata": {},
   "outputs": [
    {
     "data": {
      "text/plain": [
       "[0.5197704102546188,\n",
       " -0.1671830110031023,\n",
       " 9.249231249418788,\n",
       " 0.012319306902470933,\n",
       " -0.33381774469976033,\n",
       " 3.793500366278124,\n",
       " -0.0347115323291041]"
      ]
     },
     "execution_count": 63,
     "metadata": {},
     "output_type": "execute_result"
    }
   ],
   "source": [
    "calculated_parameters_american_currency[75]['put_offer']"
   ]
  },
  {
   "cell_type": "code",
   "execution_count": 69,
   "metadata": {},
   "outputs": [],
   "source": [
    "def calculate_option_prices(parameters, data_file: pd.DataFrame, option_class: int = EUROPEAN, \n",
    "                         asset_type:int = STOCK, q:float = q):\n",
    "    calculated_prices = defaultdict(dict)\n",
    "\n",
    "    for _, row in data_file.iterrows():\n",
    "        X = row['Strike']\n",
    "        if np.isnan(row['Call: bid']):\n",
    "            sigma = parameters[X]['put_bid'][0] \n",
    "            if np.isnan(sigma): sigma = parameters[X]['put_offer'][0]\n",
    "            if ~np.isnan(sigma):\n",
    "                price = price_option(S, X, r, T, sigma, q, CALL, option_class, asset_type)\n",
    "                calculated_prices[X]['call_bid'] = price\n",
    "        if np.isnan(row['Call: offer']):\n",
    "            sigma = parameters[X]['put_offer'][0] \n",
    "            if np.isnan(sigma): sigma = parameters[X]['put_bid'][0]\n",
    "            if ~np.isnan(sigma):\n",
    "                price = price_option(S, X, r, T, sigma, q, CALL, option_class, asset_type)\n",
    "                calculated_prices[X]['call_offer'] = price\n",
    "        if np.isnan(row['Put: bid']):\n",
    "            sigma = parameters[X]['call_bid'][0] \n",
    "            if np.isnan(sigma): sigma = parameters[X]['call_offer'][0]\n",
    "            if ~np.isnan(sigma):\n",
    "                price = price_option(S, X, r, T, sigma, q, PUT, option_class, asset_type)\n",
    "                calculated_prices[X]['put_bid'] = price\n",
    "        if np.isnan(row['Put: offer']):\n",
    "            sigma = parameters[X]['call_offer'][0] \n",
    "            if np.isnan(sigma): sigma = parameters[X]['call_bid'][0]\n",
    "            if ~np.isnan(sigma):\n",
    "                price = price_option(S, X, r, T, sigma, q, PUT, option_class, asset_type)\n",
    "                calculated_prices[X]['put_offer'] = price\n",
    "\n",
    "    return calculated_prices"
   ]
  },
  {
   "cell_type": "code",
   "execution_count": 70,
   "metadata": {},
   "outputs": [],
   "source": [
    "calculated_prices_european_stock = calculate_option_prices(calculated_parameters_european_stock, put_call, EUROPEAN, STOCK, q)\n",
    "calculated_prices_european_currency = calculate_option_prices(calculated_parameters_european_currency, put_call, EUROPEAN, CURRENCY, rf)\n",
    "calculated_prices_american_stock = calculate_option_prices(calculated_parameters_american_stock, put_call, AMERICAN, STOCK, q)\n",
    "calculated_prices_american_currency = calculate_option_prices(calculated_parameters_american_currency, put_call, AMERICAN, CURRENCY, rf)"
   ]
  },
  {
   "cell_type": "code",
   "execution_count": 71,
   "metadata": {},
   "outputs": [
    {
     "data": {
      "text/plain": [
       "{'call_bid': 26.42512978998119, 'call_offer': 27.155129789981196}"
      ]
     },
     "execution_count": 71,
     "metadata": {},
     "output_type": "execute_result"
    }
   ],
   "source": [
    "calculated_prices_european_stock[65]"
   ]
  },
  {
   "cell_type": "code",
   "execution_count": 72,
   "metadata": {},
   "outputs": [
    {
     "data": {
      "text/plain": [
       "{'call_bid': 17.28111361605903, 'call_offer': 18.791113616059697}"
      ]
     },
     "execution_count": 72,
     "metadata": {},
     "output_type": "execute_result"
    }
   ],
   "source": [
    "calculated_prices_european_currency[74.5]"
   ]
  },
  {
   "cell_type": "code",
   "execution_count": 73,
   "metadata": {},
   "outputs": [
    {
     "data": {
      "text/plain": [
       "{'put_offer': 17.711932179995056}"
      ]
     },
     "execution_count": 73,
     "metadata": {},
     "output_type": "execute_result"
    }
   ],
   "source": [
    "calculated_prices_american_stock[93.5]"
   ]
  },
  {
   "cell_type": "code",
   "execution_count": 74,
   "metadata": {},
   "outputs": [
    {
     "data": {
      "text/plain": [
       "{'put_offer': 13.761257726764663}"
      ]
     },
     "execution_count": 74,
     "metadata": {},
     "output_type": "execute_result"
    }
   ],
   "source": [
    "calculated_prices_american_currency[100]"
   ]
  }
 ],
 "metadata": {
  "kernelspec": {
   "display_name": "Python 3",
   "language": "python",
   "name": "python3"
  },
  "language_info": {
   "codemirror_mode": {
    "name": "ipython",
    "version": 3
   },
   "file_extension": ".py",
   "mimetype": "text/x-python",
   "name": "python",
   "nbconvert_exporter": "python",
   "pygments_lexer": "ipython3",
   "version": "3.10.12"
  },
  "orig_nbformat": 4
 },
 "nbformat": 4,
 "nbformat_minor": 2
}
